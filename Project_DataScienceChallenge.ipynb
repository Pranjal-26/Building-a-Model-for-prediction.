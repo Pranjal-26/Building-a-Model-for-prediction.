{
 "cells": [
  {
   "cell_type": "code",
   "execution_count": 461,
   "metadata": {},
   "outputs": [],
   "source": [
    "import pandas as pd\n",
    "import numpy as np\n",
    "import matplotlib.pyplot as plt\n",
    "import seaborn as sns\n",
    "%matplotlib inline"
   ]
  },
  {
   "cell_type": "code",
   "execution_count": 462,
   "metadata": {},
   "outputs": [],
   "source": [
    "train=pd.read_csv(\"train_qnU1GcL.csv\")"
   ]
  },
  {
   "cell_type": "code",
   "execution_count": 463,
   "metadata": {},
   "outputs": [
    {
     "data": {
      "text/html": [
       "<div>\n",
       "<style scoped>\n",
       "    .dataframe tbody tr th:only-of-type {\n",
       "        vertical-align: middle;\n",
       "    }\n",
       "\n",
       "    .dataframe tbody tr th {\n",
       "        vertical-align: top;\n",
       "    }\n",
       "\n",
       "    .dataframe thead th {\n",
       "        text-align: right;\n",
       "    }\n",
       "</style>\n",
       "<table border=\"1\" class=\"dataframe\">\n",
       "  <thead>\n",
       "    <tr style=\"text-align: right;\">\n",
       "      <th></th>\n",
       "      <th>id</th>\n",
       "      <th>perc_premium_paid_by_cash_credit</th>\n",
       "      <th>age_in_days</th>\n",
       "      <th>Income</th>\n",
       "      <th>Count_3-6_months_late</th>\n",
       "      <th>Count_6-12_months_late</th>\n",
       "      <th>Count_more_than_12_months_late</th>\n",
       "      <th>application_underwriting_score</th>\n",
       "      <th>no_of_premiums_paid</th>\n",
       "      <th>sourcing_channel</th>\n",
       "      <th>residence_area_type</th>\n",
       "      <th>target</th>\n",
       "    </tr>\n",
       "  </thead>\n",
       "  <tbody>\n",
       "    <tr>\n",
       "      <th>0</th>\n",
       "      <td>110936</td>\n",
       "      <td>0.429</td>\n",
       "      <td>12058</td>\n",
       "      <td>355060</td>\n",
       "      <td>0.0</td>\n",
       "      <td>0.0</td>\n",
       "      <td>0.0</td>\n",
       "      <td>99.02</td>\n",
       "      <td>13</td>\n",
       "      <td>C</td>\n",
       "      <td>Urban</td>\n",
       "      <td>1</td>\n",
       "    </tr>\n",
       "    <tr>\n",
       "      <th>1</th>\n",
       "      <td>41492</td>\n",
       "      <td>0.010</td>\n",
       "      <td>21546</td>\n",
       "      <td>315150</td>\n",
       "      <td>0.0</td>\n",
       "      <td>0.0</td>\n",
       "      <td>0.0</td>\n",
       "      <td>99.89</td>\n",
       "      <td>21</td>\n",
       "      <td>A</td>\n",
       "      <td>Urban</td>\n",
       "      <td>1</td>\n",
       "    </tr>\n",
       "    <tr>\n",
       "      <th>2</th>\n",
       "      <td>31300</td>\n",
       "      <td>0.917</td>\n",
       "      <td>17531</td>\n",
       "      <td>84140</td>\n",
       "      <td>2.0</td>\n",
       "      <td>3.0</td>\n",
       "      <td>1.0</td>\n",
       "      <td>98.69</td>\n",
       "      <td>7</td>\n",
       "      <td>C</td>\n",
       "      <td>Rural</td>\n",
       "      <td>0</td>\n",
       "    </tr>\n",
       "    <tr>\n",
       "      <th>3</th>\n",
       "      <td>19415</td>\n",
       "      <td>0.049</td>\n",
       "      <td>15341</td>\n",
       "      <td>250510</td>\n",
       "      <td>0.0</td>\n",
       "      <td>0.0</td>\n",
       "      <td>0.0</td>\n",
       "      <td>99.57</td>\n",
       "      <td>9</td>\n",
       "      <td>A</td>\n",
       "      <td>Urban</td>\n",
       "      <td>1</td>\n",
       "    </tr>\n",
       "    <tr>\n",
       "      <th>4</th>\n",
       "      <td>99379</td>\n",
       "      <td>0.052</td>\n",
       "      <td>31400</td>\n",
       "      <td>198680</td>\n",
       "      <td>0.0</td>\n",
       "      <td>0.0</td>\n",
       "      <td>0.0</td>\n",
       "      <td>99.87</td>\n",
       "      <td>12</td>\n",
       "      <td>B</td>\n",
       "      <td>Urban</td>\n",
       "      <td>1</td>\n",
       "    </tr>\n",
       "  </tbody>\n",
       "</table>\n",
       "</div>"
      ],
      "text/plain": [
       "       id  perc_premium_paid_by_cash_credit  age_in_days  Income  \\\n",
       "0  110936                             0.429        12058  355060   \n",
       "1   41492                             0.010        21546  315150   \n",
       "2   31300                             0.917        17531   84140   \n",
       "3   19415                             0.049        15341  250510   \n",
       "4   99379                             0.052        31400  198680   \n",
       "\n",
       "   Count_3-6_months_late  Count_6-12_months_late  \\\n",
       "0                    0.0                     0.0   \n",
       "1                    0.0                     0.0   \n",
       "2                    2.0                     3.0   \n",
       "3                    0.0                     0.0   \n",
       "4                    0.0                     0.0   \n",
       "\n",
       "   Count_more_than_12_months_late  application_underwriting_score  \\\n",
       "0                             0.0                           99.02   \n",
       "1                             0.0                           99.89   \n",
       "2                             1.0                           98.69   \n",
       "3                             0.0                           99.57   \n",
       "4                             0.0                           99.87   \n",
       "\n",
       "   no_of_premiums_paid sourcing_channel residence_area_type  target  \n",
       "0                   13                C               Urban       1  \n",
       "1                   21                A               Urban       1  \n",
       "2                    7                C               Rural       0  \n",
       "3                    9                A               Urban       1  \n",
       "4                   12                B               Urban       1  "
      ]
     },
     "execution_count": 463,
     "metadata": {},
     "output_type": "execute_result"
    }
   ],
   "source": [
    "train.head()"
   ]
  },
  {
   "cell_type": "code",
   "execution_count": 464,
   "metadata": {},
   "outputs": [
    {
     "data": {
      "text/plain": [
       "Index(['id', 'perc_premium_paid_by_cash_credit', 'age_in_days', 'Income',\n",
       "       'Count_3-6_months_late', 'Count_6-12_months_late',\n",
       "       'Count_more_than_12_months_late', 'application_underwriting_score',\n",
       "       'no_of_premiums_paid', 'sourcing_channel', 'residence_area_type',\n",
       "       'target'],\n",
       "      dtype='object')"
      ]
     },
     "execution_count": 464,
     "metadata": {},
     "output_type": "execute_result"
    }
   ],
   "source": [
    "train.columns"
   ]
  },
  {
   "cell_type": "code",
   "execution_count": 465,
   "metadata": {},
   "outputs": [
    {
     "data": {
      "text/plain": [
       "id                                    int64\n",
       "perc_premium_paid_by_cash_credit    float64\n",
       "age_in_days                           int64\n",
       "Income                                int64\n",
       "Count_3-6_months_late               float64\n",
       "Count_6-12_months_late              float64\n",
       "Count_more_than_12_months_late      float64\n",
       "application_underwriting_score      float64\n",
       "no_of_premiums_paid                   int64\n",
       "sourcing_channel                     object\n",
       "residence_area_type                  object\n",
       "target                                int64\n",
       "dtype: object"
      ]
     },
     "execution_count": 465,
     "metadata": {},
     "output_type": "execute_result"
    }
   ],
   "source": [
    "train.dtypes"
   ]
  },
  {
   "cell_type": "code",
   "execution_count": 466,
   "metadata": {},
   "outputs": [],
   "source": [
    "test=pd.read_csv(\"test_LxCaReE_DvdCKVT2_7rMflxW_O46whsi_lVTFXAY_GjPXzPU_JcI2JHo.csv\")"
   ]
  },
  {
   "cell_type": "code",
   "execution_count": 467,
   "metadata": {},
   "outputs": [
    {
     "data": {
      "text/html": [
       "<div>\n",
       "<style scoped>\n",
       "    .dataframe tbody tr th:only-of-type {\n",
       "        vertical-align: middle;\n",
       "    }\n",
       "\n",
       "    .dataframe tbody tr th {\n",
       "        vertical-align: top;\n",
       "    }\n",
       "\n",
       "    .dataframe thead th {\n",
       "        text-align: right;\n",
       "    }\n",
       "</style>\n",
       "<table border=\"1\" class=\"dataframe\">\n",
       "  <thead>\n",
       "    <tr style=\"text-align: right;\">\n",
       "      <th></th>\n",
       "      <th>id</th>\n",
       "      <th>perc_premium_paid_by_cash_credit</th>\n",
       "      <th>age_in_days</th>\n",
       "      <th>Income</th>\n",
       "      <th>Count_3-6_months_late</th>\n",
       "      <th>Count_6-12_months_late</th>\n",
       "      <th>Count_more_than_12_months_late</th>\n",
       "      <th>application_underwriting_score</th>\n",
       "      <th>no_of_premiums_paid</th>\n",
       "      <th>sourcing_channel</th>\n",
       "      <th>residence_area_type</th>\n",
       "    </tr>\n",
       "  </thead>\n",
       "  <tbody>\n",
       "    <tr>\n",
       "      <th>0</th>\n",
       "      <td>649</td>\n",
       "      <td>0.001</td>\n",
       "      <td>27384</td>\n",
       "      <td>51150</td>\n",
       "      <td>0.0</td>\n",
       "      <td>0.0</td>\n",
       "      <td>0.0</td>\n",
       "      <td>99.89</td>\n",
       "      <td>7</td>\n",
       "      <td>A</td>\n",
       "      <td>Rural</td>\n",
       "    </tr>\n",
       "    <tr>\n",
       "      <th>1</th>\n",
       "      <td>81136</td>\n",
       "      <td>0.124</td>\n",
       "      <td>23735</td>\n",
       "      <td>285140</td>\n",
       "      <td>0.0</td>\n",
       "      <td>0.0</td>\n",
       "      <td>0.0</td>\n",
       "      <td>98.93</td>\n",
       "      <td>19</td>\n",
       "      <td>A</td>\n",
       "      <td>Urban</td>\n",
       "    </tr>\n",
       "    <tr>\n",
       "      <th>2</th>\n",
       "      <td>70762</td>\n",
       "      <td>1.000</td>\n",
       "      <td>17170</td>\n",
       "      <td>186030</td>\n",
       "      <td>0.0</td>\n",
       "      <td>0.0</td>\n",
       "      <td>0.0</td>\n",
       "      <td>NaN</td>\n",
       "      <td>2</td>\n",
       "      <td>B</td>\n",
       "      <td>Urban</td>\n",
       "    </tr>\n",
       "    <tr>\n",
       "      <th>3</th>\n",
       "      <td>53935</td>\n",
       "      <td>0.198</td>\n",
       "      <td>16068</td>\n",
       "      <td>123540</td>\n",
       "      <td>0.0</td>\n",
       "      <td>0.0</td>\n",
       "      <td>0.0</td>\n",
       "      <td>99.00</td>\n",
       "      <td>11</td>\n",
       "      <td>B</td>\n",
       "      <td>Rural</td>\n",
       "    </tr>\n",
       "    <tr>\n",
       "      <th>4</th>\n",
       "      <td>15476</td>\n",
       "      <td>0.041</td>\n",
       "      <td>10591</td>\n",
       "      <td>200020</td>\n",
       "      <td>1.0</td>\n",
       "      <td>0.0</td>\n",
       "      <td>0.0</td>\n",
       "      <td>99.17</td>\n",
       "      <td>14</td>\n",
       "      <td>A</td>\n",
       "      <td>Rural</td>\n",
       "    </tr>\n",
       "  </tbody>\n",
       "</table>\n",
       "</div>"
      ],
      "text/plain": [
       "      id  perc_premium_paid_by_cash_credit  age_in_days  Income  \\\n",
       "0    649                             0.001        27384   51150   \n",
       "1  81136                             0.124        23735  285140   \n",
       "2  70762                             1.000        17170  186030   \n",
       "3  53935                             0.198        16068  123540   \n",
       "4  15476                             0.041        10591  200020   \n",
       "\n",
       "   Count_3-6_months_late  Count_6-12_months_late  \\\n",
       "0                    0.0                     0.0   \n",
       "1                    0.0                     0.0   \n",
       "2                    0.0                     0.0   \n",
       "3                    0.0                     0.0   \n",
       "4                    1.0                     0.0   \n",
       "\n",
       "   Count_more_than_12_months_late  application_underwriting_score  \\\n",
       "0                             0.0                           99.89   \n",
       "1                             0.0                           98.93   \n",
       "2                             0.0                             NaN   \n",
       "3                             0.0                           99.00   \n",
       "4                             0.0                           99.17   \n",
       "\n",
       "   no_of_premiums_paid sourcing_channel residence_area_type  \n",
       "0                    7                A               Rural  \n",
       "1                   19                A               Urban  \n",
       "2                    2                B               Urban  \n",
       "3                   11                B               Rural  \n",
       "4                   14                A               Rural  "
      ]
     },
     "execution_count": 467,
     "metadata": {},
     "output_type": "execute_result"
    }
   ],
   "source": [
    "test.head()"
   ]
  },
  {
   "cell_type": "code",
   "execution_count": 468,
   "metadata": {},
   "outputs": [],
   "source": [
    "train=pd.get_dummies(train)"
   ]
  },
  {
   "cell_type": "code",
   "execution_count": 469,
   "metadata": {},
   "outputs": [],
   "source": [
    "test=pd.get_dummies(test)"
   ]
  },
  {
   "cell_type": "code",
   "execution_count": 470,
   "metadata": {},
   "outputs": [],
   "source": [
    "corr=train[['id','perc_premium_paid_by_cash_credit', 'age_in_days', 'Income',\n",
    "       'Count_3-6_months_late', 'Count_6-12_months_late',\n",
    "       'Count_more_than_12_months_late', 'application_underwriting_score',\n",
    "       'no_of_premiums_paid', 'target']].corr()"
   ]
  },
  {
   "cell_type": "code",
   "execution_count": 471,
   "metadata": {},
   "outputs": [
    {
     "data": {
      "text/html": [
       "<div>\n",
       "<style scoped>\n",
       "    .dataframe tbody tr th:only-of-type {\n",
       "        vertical-align: middle;\n",
       "    }\n",
       "\n",
       "    .dataframe tbody tr th {\n",
       "        vertical-align: top;\n",
       "    }\n",
       "\n",
       "    .dataframe thead th {\n",
       "        text-align: right;\n",
       "    }\n",
       "</style>\n",
       "<table border=\"1\" class=\"dataframe\">\n",
       "  <thead>\n",
       "    <tr style=\"text-align: right;\">\n",
       "      <th></th>\n",
       "      <th>id</th>\n",
       "      <th>perc_premium_paid_by_cash_credit</th>\n",
       "      <th>age_in_days</th>\n",
       "      <th>Income</th>\n",
       "      <th>Count_3-6_months_late</th>\n",
       "      <th>Count_6-12_months_late</th>\n",
       "      <th>Count_more_than_12_months_late</th>\n",
       "      <th>application_underwriting_score</th>\n",
       "      <th>no_of_premiums_paid</th>\n",
       "      <th>target</th>\n",
       "      <th>sourcing_channel_A</th>\n",
       "      <th>sourcing_channel_B</th>\n",
       "      <th>sourcing_channel_C</th>\n",
       "      <th>sourcing_channel_D</th>\n",
       "      <th>sourcing_channel_E</th>\n",
       "      <th>residence_area_type_Rural</th>\n",
       "      <th>residence_area_type_Urban</th>\n",
       "    </tr>\n",
       "  </thead>\n",
       "  <tbody>\n",
       "    <tr>\n",
       "      <th>id</th>\n",
       "      <td>1.000000</td>\n",
       "      <td>-0.004833</td>\n",
       "      <td>0.005184</td>\n",
       "      <td>-0.001798</td>\n",
       "      <td>-0.005660</td>\n",
       "      <td>-0.002125</td>\n",
       "      <td>0.003424</td>\n",
       "      <td>-0.002124</td>\n",
       "      <td>-0.003328</td>\n",
       "      <td>-0.005064</td>\n",
       "      <td>0.002253</td>\n",
       "      <td>-0.005946</td>\n",
       "      <td>0.000984</td>\n",
       "      <td>0.002335</td>\n",
       "      <td>0.002870</td>\n",
       "      <td>-0.002015</td>\n",
       "      <td>0.002015</td>\n",
       "    </tr>\n",
       "    <tr>\n",
       "      <th>perc_premium_paid_by_cash_credit</th>\n",
       "      <td>-0.004833</td>\n",
       "      <td>1.000000</td>\n",
       "      <td>-0.259131</td>\n",
       "      <td>-0.031868</td>\n",
       "      <td>0.214470</td>\n",
       "      <td>0.214951</td>\n",
       "      <td>0.168125</td>\n",
       "      <td>-0.142670</td>\n",
       "      <td>-0.152837</td>\n",
       "      <td>-0.240980</td>\n",
       "      <td>-0.078383</td>\n",
       "      <td>0.019778</td>\n",
       "      <td>0.045189</td>\n",
       "      <td>0.046534</td>\n",
       "      <td>0.014512</td>\n",
       "      <td>0.001562</td>\n",
       "      <td>-0.001562</td>\n",
       "    </tr>\n",
       "    <tr>\n",
       "      <th>age_in_days</th>\n",
       "      <td>0.005184</td>\n",
       "      <td>-0.259131</td>\n",
       "      <td>1.000000</td>\n",
       "      <td>0.029308</td>\n",
       "      <td>-0.058366</td>\n",
       "      <td>-0.072731</td>\n",
       "      <td>-0.059407</td>\n",
       "      <td>0.049888</td>\n",
       "      <td>0.176544</td>\n",
       "      <td>0.095103</td>\n",
       "      <td>0.181597</td>\n",
       "      <td>0.011423</td>\n",
       "      <td>-0.151481</td>\n",
       "      <td>-0.130678</td>\n",
       "      <td>-0.030726</td>\n",
       "      <td>-0.000684</td>\n",
       "      <td>0.000684</td>\n",
       "    </tr>\n",
       "    <tr>\n",
       "      <th>Income</th>\n",
       "      <td>-0.001798</td>\n",
       "      <td>-0.031868</td>\n",
       "      <td>0.029308</td>\n",
       "      <td>1.000000</td>\n",
       "      <td>-0.001403</td>\n",
       "      <td>-0.017347</td>\n",
       "      <td>-0.012399</td>\n",
       "      <td>0.085746</td>\n",
       "      <td>0.079078</td>\n",
       "      <td>0.016541</td>\n",
       "      <td>-0.055477</td>\n",
       "      <td>0.015270</td>\n",
       "      <td>0.024703</td>\n",
       "      <td>0.039225</td>\n",
       "      <td>0.013132</td>\n",
       "      <td>-0.003392</td>\n",
       "      <td>0.003392</td>\n",
       "    </tr>\n",
       "    <tr>\n",
       "      <th>Count_3-6_months_late</th>\n",
       "      <td>-0.005660</td>\n",
       "      <td>0.214470</td>\n",
       "      <td>-0.058366</td>\n",
       "      <td>-0.001403</td>\n",
       "      <td>1.000000</td>\n",
       "      <td>0.204228</td>\n",
       "      <td>0.296085</td>\n",
       "      <td>-0.082781</td>\n",
       "      <td>0.075828</td>\n",
       "      <td>-0.248900</td>\n",
       "      <td>-0.058658</td>\n",
       "      <td>0.018620</td>\n",
       "      <td>0.031645</td>\n",
       "      <td>0.033951</td>\n",
       "      <td>0.004908</td>\n",
       "      <td>-0.001592</td>\n",
       "      <td>0.001592</td>\n",
       "    </tr>\n",
       "    <tr>\n",
       "      <th>Count_6-12_months_late</th>\n",
       "      <td>-0.002125</td>\n",
       "      <td>0.214951</td>\n",
       "      <td>-0.072731</td>\n",
       "      <td>-0.017347</td>\n",
       "      <td>0.204228</td>\n",
       "      <td>1.000000</td>\n",
       "      <td>0.266306</td>\n",
       "      <td>0.004785</td>\n",
       "      <td>-0.093133</td>\n",
       "      <td>-0.286159</td>\n",
       "      <td>-0.026141</td>\n",
       "      <td>0.008595</td>\n",
       "      <td>0.009047</td>\n",
       "      <td>0.020921</td>\n",
       "      <td>0.002106</td>\n",
       "      <td>0.000770</td>\n",
       "      <td>-0.000770</td>\n",
       "    </tr>\n",
       "    <tr>\n",
       "      <th>Count_more_than_12_months_late</th>\n",
       "      <td>0.003424</td>\n",
       "      <td>0.168125</td>\n",
       "      <td>-0.059407</td>\n",
       "      <td>-0.012399</td>\n",
       "      <td>0.296085</td>\n",
       "      <td>0.266306</td>\n",
       "      <td>1.000000</td>\n",
       "      <td>-0.031726</td>\n",
       "      <td>-0.021848</td>\n",
       "      <td>-0.240385</td>\n",
       "      <td>-0.028828</td>\n",
       "      <td>0.008344</td>\n",
       "      <td>0.016209</td>\n",
       "      <td>0.017103</td>\n",
       "      <td>0.002057</td>\n",
       "      <td>0.001178</td>\n",
       "      <td>-0.001178</td>\n",
       "    </tr>\n",
       "    <tr>\n",
       "      <th>application_underwriting_score</th>\n",
       "      <td>-0.002124</td>\n",
       "      <td>-0.142670</td>\n",
       "      <td>0.049888</td>\n",
       "      <td>0.085746</td>\n",
       "      <td>-0.082781</td>\n",
       "      <td>0.004785</td>\n",
       "      <td>-0.031726</td>\n",
       "      <td>1.000000</td>\n",
       "      <td>-0.270864</td>\n",
       "      <td>0.068715</td>\n",
       "      <td>0.050679</td>\n",
       "      <td>-0.007948</td>\n",
       "      <td>-0.050636</td>\n",
       "      <td>-0.012797</td>\n",
       "      <td>0.000083</td>\n",
       "      <td>-0.005009</td>\n",
       "      <td>0.005009</td>\n",
       "    </tr>\n",
       "    <tr>\n",
       "      <th>no_of_premiums_paid</th>\n",
       "      <td>-0.003328</td>\n",
       "      <td>-0.152837</td>\n",
       "      <td>0.176544</td>\n",
       "      <td>0.079078</td>\n",
       "      <td>0.075828</td>\n",
       "      <td>-0.093133</td>\n",
       "      <td>-0.021848</td>\n",
       "      <td>-0.270864</td>\n",
       "      <td>1.000000</td>\n",
       "      <td>0.022664</td>\n",
       "      <td>-0.055044</td>\n",
       "      <td>0.039574</td>\n",
       "      <td>0.021251</td>\n",
       "      <td>0.011755</td>\n",
       "      <td>0.004145</td>\n",
       "      <td>-0.003447</td>\n",
       "      <td>0.003447</td>\n",
       "    </tr>\n",
       "    <tr>\n",
       "      <th>target</th>\n",
       "      <td>-0.005064</td>\n",
       "      <td>-0.240980</td>\n",
       "      <td>0.095103</td>\n",
       "      <td>0.016541</td>\n",
       "      <td>-0.248900</td>\n",
       "      <td>-0.286159</td>\n",
       "      <td>-0.240385</td>\n",
       "      <td>0.068715</td>\n",
       "      <td>0.022664</td>\n",
       "      <td>1.000000</td>\n",
       "      <td>0.036386</td>\n",
       "      <td>-0.004151</td>\n",
       "      <td>-0.021598</td>\n",
       "      <td>-0.028412</td>\n",
       "      <td>-0.004685</td>\n",
       "      <td>-0.001667</td>\n",
       "      <td>0.001667</td>\n",
       "    </tr>\n",
       "    <tr>\n",
       "      <th>sourcing_channel_A</th>\n",
       "      <td>0.002253</td>\n",
       "      <td>-0.078383</td>\n",
       "      <td>0.181597</td>\n",
       "      <td>-0.055477</td>\n",
       "      <td>-0.058658</td>\n",
       "      <td>-0.026141</td>\n",
       "      <td>-0.028828</td>\n",
       "      <td>0.050679</td>\n",
       "      <td>-0.055044</td>\n",
       "      <td>0.036386</td>\n",
       "      <td>1.000000</td>\n",
       "      <td>-0.553378</td>\n",
       "      <td>-0.456667</td>\n",
       "      <td>-0.350466</td>\n",
       "      <td>-0.095015</td>\n",
       "      <td>0.000405</td>\n",
       "      <td>-0.000405</td>\n",
       "    </tr>\n",
       "    <tr>\n",
       "      <th>sourcing_channel_B</th>\n",
       "      <td>-0.005946</td>\n",
       "      <td>0.019778</td>\n",
       "      <td>0.011423</td>\n",
       "      <td>0.015270</td>\n",
       "      <td>0.018620</td>\n",
       "      <td>0.008595</td>\n",
       "      <td>0.008344</td>\n",
       "      <td>-0.007948</td>\n",
       "      <td>0.039574</td>\n",
       "      <td>-0.004151</td>\n",
       "      <td>-0.553378</td>\n",
       "      <td>1.000000</td>\n",
       "      <td>-0.215126</td>\n",
       "      <td>-0.165097</td>\n",
       "      <td>-0.044759</td>\n",
       "      <td>-0.002700</td>\n",
       "      <td>0.002700</td>\n",
       "    </tr>\n",
       "    <tr>\n",
       "      <th>sourcing_channel_C</th>\n",
       "      <td>0.000984</td>\n",
       "      <td>0.045189</td>\n",
       "      <td>-0.151481</td>\n",
       "      <td>0.024703</td>\n",
       "      <td>0.031645</td>\n",
       "      <td>0.009047</td>\n",
       "      <td>0.016209</td>\n",
       "      <td>-0.050636</td>\n",
       "      <td>0.021251</td>\n",
       "      <td>-0.021598</td>\n",
       "      <td>-0.456667</td>\n",
       "      <td>-0.215126</td>\n",
       "      <td>1.000000</td>\n",
       "      <td>-0.136244</td>\n",
       "      <td>-0.036937</td>\n",
       "      <td>0.000378</td>\n",
       "      <td>-0.000378</td>\n",
       "    </tr>\n",
       "    <tr>\n",
       "      <th>sourcing_channel_D</th>\n",
       "      <td>0.002335</td>\n",
       "      <td>0.046534</td>\n",
       "      <td>-0.130678</td>\n",
       "      <td>0.039225</td>\n",
       "      <td>0.033951</td>\n",
       "      <td>0.020921</td>\n",
       "      <td>0.017103</td>\n",
       "      <td>-0.012797</td>\n",
       "      <td>0.011755</td>\n",
       "      <td>-0.028412</td>\n",
       "      <td>-0.350466</td>\n",
       "      <td>-0.165097</td>\n",
       "      <td>-0.136244</td>\n",
       "      <td>1.000000</td>\n",
       "      <td>-0.028347</td>\n",
       "      <td>0.000094</td>\n",
       "      <td>-0.000094</td>\n",
       "    </tr>\n",
       "    <tr>\n",
       "      <th>sourcing_channel_E</th>\n",
       "      <td>0.002870</td>\n",
       "      <td>0.014512</td>\n",
       "      <td>-0.030726</td>\n",
       "      <td>0.013132</td>\n",
       "      <td>0.004908</td>\n",
       "      <td>0.002106</td>\n",
       "      <td>0.002057</td>\n",
       "      <td>0.000083</td>\n",
       "      <td>0.004145</td>\n",
       "      <td>-0.004685</td>\n",
       "      <td>-0.095015</td>\n",
       "      <td>-0.044759</td>\n",
       "      <td>-0.036937</td>\n",
       "      <td>-0.028347</td>\n",
       "      <td>1.000000</td>\n",
       "      <td>0.008377</td>\n",
       "      <td>-0.008377</td>\n",
       "    </tr>\n",
       "    <tr>\n",
       "      <th>residence_area_type_Rural</th>\n",
       "      <td>-0.002015</td>\n",
       "      <td>0.001562</td>\n",
       "      <td>-0.000684</td>\n",
       "      <td>-0.003392</td>\n",
       "      <td>-0.001592</td>\n",
       "      <td>0.000770</td>\n",
       "      <td>0.001178</td>\n",
       "      <td>-0.005009</td>\n",
       "      <td>-0.003447</td>\n",
       "      <td>-0.001667</td>\n",
       "      <td>0.000405</td>\n",
       "      <td>-0.002700</td>\n",
       "      <td>0.000378</td>\n",
       "      <td>0.000094</td>\n",
       "      <td>0.008377</td>\n",
       "      <td>1.000000</td>\n",
       "      <td>-1.000000</td>\n",
       "    </tr>\n",
       "    <tr>\n",
       "      <th>residence_area_type_Urban</th>\n",
       "      <td>0.002015</td>\n",
       "      <td>-0.001562</td>\n",
       "      <td>0.000684</td>\n",
       "      <td>0.003392</td>\n",
       "      <td>0.001592</td>\n",
       "      <td>-0.000770</td>\n",
       "      <td>-0.001178</td>\n",
       "      <td>0.005009</td>\n",
       "      <td>0.003447</td>\n",
       "      <td>0.001667</td>\n",
       "      <td>-0.000405</td>\n",
       "      <td>0.002700</td>\n",
       "      <td>-0.000378</td>\n",
       "      <td>-0.000094</td>\n",
       "      <td>-0.008377</td>\n",
       "      <td>-1.000000</td>\n",
       "      <td>1.000000</td>\n",
       "    </tr>\n",
       "  </tbody>\n",
       "</table>\n",
       "</div>"
      ],
      "text/plain": [
       "                                        id  perc_premium_paid_by_cash_credit  \\\n",
       "id                                1.000000                         -0.004833   \n",
       "perc_premium_paid_by_cash_credit -0.004833                          1.000000   \n",
       "age_in_days                       0.005184                         -0.259131   \n",
       "Income                           -0.001798                         -0.031868   \n",
       "Count_3-6_months_late            -0.005660                          0.214470   \n",
       "Count_6-12_months_late           -0.002125                          0.214951   \n",
       "Count_more_than_12_months_late    0.003424                          0.168125   \n",
       "application_underwriting_score   -0.002124                         -0.142670   \n",
       "no_of_premiums_paid              -0.003328                         -0.152837   \n",
       "target                           -0.005064                         -0.240980   \n",
       "sourcing_channel_A                0.002253                         -0.078383   \n",
       "sourcing_channel_B               -0.005946                          0.019778   \n",
       "sourcing_channel_C                0.000984                          0.045189   \n",
       "sourcing_channel_D                0.002335                          0.046534   \n",
       "sourcing_channel_E                0.002870                          0.014512   \n",
       "residence_area_type_Rural        -0.002015                          0.001562   \n",
       "residence_area_type_Urban         0.002015                         -0.001562   \n",
       "\n",
       "                                  age_in_days    Income  \\\n",
       "id                                   0.005184 -0.001798   \n",
       "perc_premium_paid_by_cash_credit    -0.259131 -0.031868   \n",
       "age_in_days                          1.000000  0.029308   \n",
       "Income                               0.029308  1.000000   \n",
       "Count_3-6_months_late               -0.058366 -0.001403   \n",
       "Count_6-12_months_late              -0.072731 -0.017347   \n",
       "Count_more_than_12_months_late      -0.059407 -0.012399   \n",
       "application_underwriting_score       0.049888  0.085746   \n",
       "no_of_premiums_paid                  0.176544  0.079078   \n",
       "target                               0.095103  0.016541   \n",
       "sourcing_channel_A                   0.181597 -0.055477   \n",
       "sourcing_channel_B                   0.011423  0.015270   \n",
       "sourcing_channel_C                  -0.151481  0.024703   \n",
       "sourcing_channel_D                  -0.130678  0.039225   \n",
       "sourcing_channel_E                  -0.030726  0.013132   \n",
       "residence_area_type_Rural           -0.000684 -0.003392   \n",
       "residence_area_type_Urban            0.000684  0.003392   \n",
       "\n",
       "                                  Count_3-6_months_late  \\\n",
       "id                                            -0.005660   \n",
       "perc_premium_paid_by_cash_credit               0.214470   \n",
       "age_in_days                                   -0.058366   \n",
       "Income                                        -0.001403   \n",
       "Count_3-6_months_late                          1.000000   \n",
       "Count_6-12_months_late                         0.204228   \n",
       "Count_more_than_12_months_late                 0.296085   \n",
       "application_underwriting_score                -0.082781   \n",
       "no_of_premiums_paid                            0.075828   \n",
       "target                                        -0.248900   \n",
       "sourcing_channel_A                            -0.058658   \n",
       "sourcing_channel_B                             0.018620   \n",
       "sourcing_channel_C                             0.031645   \n",
       "sourcing_channel_D                             0.033951   \n",
       "sourcing_channel_E                             0.004908   \n",
       "residence_area_type_Rural                     -0.001592   \n",
       "residence_area_type_Urban                      0.001592   \n",
       "\n",
       "                                  Count_6-12_months_late  \\\n",
       "id                                             -0.002125   \n",
       "perc_premium_paid_by_cash_credit                0.214951   \n",
       "age_in_days                                    -0.072731   \n",
       "Income                                         -0.017347   \n",
       "Count_3-6_months_late                           0.204228   \n",
       "Count_6-12_months_late                          1.000000   \n",
       "Count_more_than_12_months_late                  0.266306   \n",
       "application_underwriting_score                  0.004785   \n",
       "no_of_premiums_paid                            -0.093133   \n",
       "target                                         -0.286159   \n",
       "sourcing_channel_A                             -0.026141   \n",
       "sourcing_channel_B                              0.008595   \n",
       "sourcing_channel_C                              0.009047   \n",
       "sourcing_channel_D                              0.020921   \n",
       "sourcing_channel_E                              0.002106   \n",
       "residence_area_type_Rural                       0.000770   \n",
       "residence_area_type_Urban                      -0.000770   \n",
       "\n",
       "                                  Count_more_than_12_months_late  \\\n",
       "id                                                      0.003424   \n",
       "perc_premium_paid_by_cash_credit                        0.168125   \n",
       "age_in_days                                            -0.059407   \n",
       "Income                                                 -0.012399   \n",
       "Count_3-6_months_late                                   0.296085   \n",
       "Count_6-12_months_late                                  0.266306   \n",
       "Count_more_than_12_months_late                          1.000000   \n",
       "application_underwriting_score                         -0.031726   \n",
       "no_of_premiums_paid                                    -0.021848   \n",
       "target                                                 -0.240385   \n",
       "sourcing_channel_A                                     -0.028828   \n",
       "sourcing_channel_B                                      0.008344   \n",
       "sourcing_channel_C                                      0.016209   \n",
       "sourcing_channel_D                                      0.017103   \n",
       "sourcing_channel_E                                      0.002057   \n",
       "residence_area_type_Rural                               0.001178   \n",
       "residence_area_type_Urban                              -0.001178   \n",
       "\n",
       "                                  application_underwriting_score  \\\n",
       "id                                                     -0.002124   \n",
       "perc_premium_paid_by_cash_credit                       -0.142670   \n",
       "age_in_days                                             0.049888   \n",
       "Income                                                  0.085746   \n",
       "Count_3-6_months_late                                  -0.082781   \n",
       "Count_6-12_months_late                                  0.004785   \n",
       "Count_more_than_12_months_late                         -0.031726   \n",
       "application_underwriting_score                          1.000000   \n",
       "no_of_premiums_paid                                    -0.270864   \n",
       "target                                                  0.068715   \n",
       "sourcing_channel_A                                      0.050679   \n",
       "sourcing_channel_B                                     -0.007948   \n",
       "sourcing_channel_C                                     -0.050636   \n",
       "sourcing_channel_D                                     -0.012797   \n",
       "sourcing_channel_E                                      0.000083   \n",
       "residence_area_type_Rural                              -0.005009   \n",
       "residence_area_type_Urban                               0.005009   \n",
       "\n",
       "                                  no_of_premiums_paid    target  \\\n",
       "id                                          -0.003328 -0.005064   \n",
       "perc_premium_paid_by_cash_credit            -0.152837 -0.240980   \n",
       "age_in_days                                  0.176544  0.095103   \n",
       "Income                                       0.079078  0.016541   \n",
       "Count_3-6_months_late                        0.075828 -0.248900   \n",
       "Count_6-12_months_late                      -0.093133 -0.286159   \n",
       "Count_more_than_12_months_late              -0.021848 -0.240385   \n",
       "application_underwriting_score              -0.270864  0.068715   \n",
       "no_of_premiums_paid                          1.000000  0.022664   \n",
       "target                                       0.022664  1.000000   \n",
       "sourcing_channel_A                          -0.055044  0.036386   \n",
       "sourcing_channel_B                           0.039574 -0.004151   \n",
       "sourcing_channel_C                           0.021251 -0.021598   \n",
       "sourcing_channel_D                           0.011755 -0.028412   \n",
       "sourcing_channel_E                           0.004145 -0.004685   \n",
       "residence_area_type_Rural                   -0.003447 -0.001667   \n",
       "residence_area_type_Urban                    0.003447  0.001667   \n",
       "\n",
       "                                  sourcing_channel_A  sourcing_channel_B  \\\n",
       "id                                          0.002253           -0.005946   \n",
       "perc_premium_paid_by_cash_credit           -0.078383            0.019778   \n",
       "age_in_days                                 0.181597            0.011423   \n",
       "Income                                     -0.055477            0.015270   \n",
       "Count_3-6_months_late                      -0.058658            0.018620   \n",
       "Count_6-12_months_late                     -0.026141            0.008595   \n",
       "Count_more_than_12_months_late             -0.028828            0.008344   \n",
       "application_underwriting_score              0.050679           -0.007948   \n",
       "no_of_premiums_paid                        -0.055044            0.039574   \n",
       "target                                      0.036386           -0.004151   \n",
       "sourcing_channel_A                          1.000000           -0.553378   \n",
       "sourcing_channel_B                         -0.553378            1.000000   \n",
       "sourcing_channel_C                         -0.456667           -0.215126   \n",
       "sourcing_channel_D                         -0.350466           -0.165097   \n",
       "sourcing_channel_E                         -0.095015           -0.044759   \n",
       "residence_area_type_Rural                   0.000405           -0.002700   \n",
       "residence_area_type_Urban                  -0.000405            0.002700   \n",
       "\n",
       "                                  sourcing_channel_C  sourcing_channel_D  \\\n",
       "id                                          0.000984            0.002335   \n",
       "perc_premium_paid_by_cash_credit            0.045189            0.046534   \n",
       "age_in_days                                -0.151481           -0.130678   \n",
       "Income                                      0.024703            0.039225   \n",
       "Count_3-6_months_late                       0.031645            0.033951   \n",
       "Count_6-12_months_late                      0.009047            0.020921   \n",
       "Count_more_than_12_months_late              0.016209            0.017103   \n",
       "application_underwriting_score             -0.050636           -0.012797   \n",
       "no_of_premiums_paid                         0.021251            0.011755   \n",
       "target                                     -0.021598           -0.028412   \n",
       "sourcing_channel_A                         -0.456667           -0.350466   \n",
       "sourcing_channel_B                         -0.215126           -0.165097   \n",
       "sourcing_channel_C                          1.000000           -0.136244   \n",
       "sourcing_channel_D                         -0.136244            1.000000   \n",
       "sourcing_channel_E                         -0.036937           -0.028347   \n",
       "residence_area_type_Rural                   0.000378            0.000094   \n",
       "residence_area_type_Urban                  -0.000378           -0.000094   \n",
       "\n",
       "                                  sourcing_channel_E  \\\n",
       "id                                          0.002870   \n",
       "perc_premium_paid_by_cash_credit            0.014512   \n",
       "age_in_days                                -0.030726   \n",
       "Income                                      0.013132   \n",
       "Count_3-6_months_late                       0.004908   \n",
       "Count_6-12_months_late                      0.002106   \n",
       "Count_more_than_12_months_late              0.002057   \n",
       "application_underwriting_score              0.000083   \n",
       "no_of_premiums_paid                         0.004145   \n",
       "target                                     -0.004685   \n",
       "sourcing_channel_A                         -0.095015   \n",
       "sourcing_channel_B                         -0.044759   \n",
       "sourcing_channel_C                         -0.036937   \n",
       "sourcing_channel_D                         -0.028347   \n",
       "sourcing_channel_E                          1.000000   \n",
       "residence_area_type_Rural                   0.008377   \n",
       "residence_area_type_Urban                  -0.008377   \n",
       "\n",
       "                                  residence_area_type_Rural  \\\n",
       "id                                                -0.002015   \n",
       "perc_premium_paid_by_cash_credit                   0.001562   \n",
       "age_in_days                                       -0.000684   \n",
       "Income                                            -0.003392   \n",
       "Count_3-6_months_late                             -0.001592   \n",
       "Count_6-12_months_late                             0.000770   \n",
       "Count_more_than_12_months_late                     0.001178   \n",
       "application_underwriting_score                    -0.005009   \n",
       "no_of_premiums_paid                               -0.003447   \n",
       "target                                            -0.001667   \n",
       "sourcing_channel_A                                 0.000405   \n",
       "sourcing_channel_B                                -0.002700   \n",
       "sourcing_channel_C                                 0.000378   \n",
       "sourcing_channel_D                                 0.000094   \n",
       "sourcing_channel_E                                 0.008377   \n",
       "residence_area_type_Rural                          1.000000   \n",
       "residence_area_type_Urban                         -1.000000   \n",
       "\n",
       "                                  residence_area_type_Urban  \n",
       "id                                                 0.002015  \n",
       "perc_premium_paid_by_cash_credit                  -0.001562  \n",
       "age_in_days                                        0.000684  \n",
       "Income                                             0.003392  \n",
       "Count_3-6_months_late                              0.001592  \n",
       "Count_6-12_months_late                            -0.000770  \n",
       "Count_more_than_12_months_late                    -0.001178  \n",
       "application_underwriting_score                     0.005009  \n",
       "no_of_premiums_paid                                0.003447  \n",
       "target                                             0.001667  \n",
       "sourcing_channel_A                                -0.000405  \n",
       "sourcing_channel_B                                 0.002700  \n",
       "sourcing_channel_C                                -0.000378  \n",
       "sourcing_channel_D                                -0.000094  \n",
       "sourcing_channel_E                                -0.008377  \n",
       "residence_area_type_Rural                         -1.000000  \n",
       "residence_area_type_Urban                          1.000000  "
      ]
     },
     "execution_count": 471,
     "metadata": {},
     "output_type": "execute_result"
    }
   ],
   "source": [
    "train.corr()"
   ]
  },
  {
   "cell_type": "code",
   "execution_count": 472,
   "metadata": {},
   "outputs": [
    {
     "data": {
      "text/plain": [
       "<matplotlib.axes._subplots.AxesSubplot at 0x20205411df0>"
      ]
     },
     "execution_count": 472,
     "metadata": {},
     "output_type": "execute_result"
    },
    {
     "data": {
      "image/png": "[encoded data removed]",
      "text/plain": [
       "<Figure size 1152x720 with 2 Axes>"
      ]
     },
     "metadata": {
      "needs_background": "light"
     },
     "output_type": "display_data"
    }
   ],
   "source": [
    "mask = np.array(corr)\n",
    "mask[np.tril_indices_from(mask)] = False\n",
    "plt.figure(figsize=(16,10))\n",
    "sns.heatmap(corr,mask=mask,square=True,annot=True)"
   ]
  },
  {
   "cell_type": "code",
   "execution_count": 473,
   "metadata": {},
   "outputs": [
    {
     "data": {
      "text/plain": [
       "<matplotlib.axes._subplots.AxesSubplot at 0x20204cbbfd0>"
      ]
     },
     "execution_count": 473,
     "metadata": {},
     "output_type": "execute_result"
    },
    {
     "data": {
      "image/png": "[encoded data removed]",
      "text/plain": [
       "<Figure size 432x288 with 1 Axes>"
      ]
     },
     "metadata": {
      "needs_background": "light"
     },
     "output_type": "display_data"
    }
   ],
   "source": [
    "train['target'].plot.hist()"
   ]
  },
  {
   "cell_type": "code",
   "execution_count": 474,
   "metadata": {},
   "outputs": [
    {
     "data": {
      "text/plain": [
       "<matplotlib.axes._subplots.AxesSubplot at 0x202013262b0>"
      ]
     },
     "execution_count": 474,
     "metadata": {},
     "output_type": "execute_result"
    },
    {
     "data": {
      "image/png": "[encoded data removed]",
      "text/plain": [
       "<Figure size 432x288 with 1 Axes>"
      ]
     },
     "metadata": {
      "needs_background": "light"
     },
     "output_type": "display_data"
    }
   ],
   "source": [
    "train['age_in_days'].plot.hist()"
   ]
  },
  {
   "cell_type": "code",
   "execution_count": 475,
   "metadata": {},
   "outputs": [
    {
     "data": {
      "text/plain": [
       "id                                     0\n",
       "perc_premium_paid_by_cash_credit       0\n",
       "age_in_days                            0\n",
       "Income                                 0\n",
       "Count_3-6_months_late                 97\n",
       "Count_6-12_months_late                97\n",
       "Count_more_than_12_months_late        97\n",
       "application_underwriting_score      2974\n",
       "no_of_premiums_paid                    0\n",
       "target                                 0\n",
       "sourcing_channel_A                     0\n",
       "sourcing_channel_B                     0\n",
       "sourcing_channel_C                     0\n",
       "sourcing_channel_D                     0\n",
       "sourcing_channel_E                     0\n",
       "residence_area_type_Rural              0\n",
       "residence_area_type_Urban              0\n",
       "dtype: int64"
      ]
     },
     "execution_count": 475,
     "metadata": {},
     "output_type": "execute_result"
    }
   ],
   "source": [
    "train.isnull().sum()"
   ]
  },
  {
   "cell_type": "code",
   "execution_count": 476,
   "metadata": {},
   "outputs": [],
   "source": [
    "train.fillna(0,inplace=True)"
   ]
  },
  {
   "cell_type": "code",
   "execution_count": 477,
   "metadata": {},
   "outputs": [
    {
     "data": {
      "text/plain": [
       "id                                  0\n",
       "perc_premium_paid_by_cash_credit    0\n",
       "age_in_days                         0\n",
       "Income                              0\n",
       "Count_3-6_months_late               0\n",
       "Count_6-12_months_late              0\n",
       "Count_more_than_12_months_late      0\n",
       "application_underwriting_score      0\n",
       "no_of_premiums_paid                 0\n",
       "target                              0\n",
       "sourcing_channel_A                  0\n",
       "sourcing_channel_B                  0\n",
       "sourcing_channel_C                  0\n",
       "sourcing_channel_D                  0\n",
       "sourcing_channel_E                  0\n",
       "residence_area_type_Rural           0\n",
       "residence_area_type_Urban           0\n",
       "dtype: int64"
      ]
     },
     "execution_count": 477,
     "metadata": {},
     "output_type": "execute_result"
    }
   ],
   "source": [
    "train.isnull().sum()"
   ]
  },
  {
   "cell_type": "code",
   "execution_count": 478,
   "metadata": {},
   "outputs": [
    {
     "data": {
      "text/plain": [
       "id                                     0\n",
       "perc_premium_paid_by_cash_credit       0\n",
       "age_in_days                            0\n",
       "Income                                 0\n",
       "Count_3-6_months_late                 31\n",
       "Count_6-12_months_late                31\n",
       "Count_more_than_12_months_late        31\n",
       "application_underwriting_score      1323\n",
       "no_of_premiums_paid                    0\n",
       "sourcing_channel_A                     0\n",
       "sourcing_channel_B                     0\n",
       "sourcing_channel_C                     0\n",
       "sourcing_channel_D                     0\n",
       "sourcing_channel_E                     0\n",
       "residence_area_type_Rural              0\n",
       "residence_area_type_Urban              0\n",
       "dtype: int64"
      ]
     },
     "execution_count": 478,
     "metadata": {},
     "output_type": "execute_result"
    }
   ],
   "source": [
    "test.isnull().sum()"
   ]
  },
  {
   "cell_type": "code",
   "execution_count": 479,
   "metadata": {},
   "outputs": [],
   "source": [
    "test.fillna(0,inplace=True)"
   ]
  },
  {
   "cell_type": "code",
   "execution_count": 480,
   "metadata": {},
   "outputs": [
    {
     "data": {
      "text/plain": [
       "id                                  0\n",
       "perc_premium_paid_by_cash_credit    0\n",
       "age_in_days                         0\n",
       "Income                              0\n",
       "Count_3-6_months_late               0\n",
       "Count_6-12_months_late              0\n",
       "Count_more_than_12_months_late      0\n",
       "application_underwriting_score      0\n",
       "no_of_premiums_paid                 0\n",
       "sourcing_channel_A                  0\n",
       "sourcing_channel_B                  0\n",
       "sourcing_channel_C                  0\n",
       "sourcing_channel_D                  0\n",
       "sourcing_channel_E                  0\n",
       "residence_area_type_Rural           0\n",
       "residence_area_type_Urban           0\n",
       "dtype: int64"
      ]
     },
     "execution_count": 480,
     "metadata": {},
     "output_type": "execute_result"
    }
   ],
   "source": [
    "test.isnull().sum()"
   ]
  },
  {
   "cell_type": "code",
   "execution_count": 481,
   "metadata": {},
   "outputs": [
    {
     "data": {
      "text/plain": [
       "(79853, 17)"
      ]
     },
     "execution_count": 481,
     "metadata": {},
     "output_type": "execute_result"
    }
   ],
   "source": [
    "train.shape"
   ]
  },
  {
   "cell_type": "code",
   "execution_count": 482,
   "metadata": {},
   "outputs": [],
   "source": [
    "from sklearn.linear_model import LogisticRegression"
   ]
  },
  {
   "cell_type": "code",
   "execution_count": 483,
   "metadata": {},
   "outputs": [],
   "source": [
    "logreg=LogisticRegression()"
   ]
  },
  {
   "cell_type": "code",
   "execution_count": 484,
   "metadata": {},
   "outputs": [],
   "source": [
    "x_train=train[train['age_in_days']<=28000]\n",
    "validation=train[train['age_in_days']>28000]"
   ]
  },
  {
   "cell_type": "code",
   "execution_count": 485,
   "metadata": {},
   "outputs": [],
   "source": [
    "x_train=train.drop('target',axis=1)"
   ]
  },
  {
   "cell_type": "code",
   "execution_count": 486,
   "metadata": {},
   "outputs": [],
   "source": [
    "y_train=train['target']"
   ]
  },
  {
   "cell_type": "code",
   "execution_count": 487,
   "metadata": {},
   "outputs": [],
   "source": [
    "x_val=validation.drop('target',axis=1)"
   ]
  },
  {
   "cell_type": "code",
   "execution_count": 488,
   "metadata": {},
   "outputs": [],
   "source": [
    "y_val=validation['target']"
   ]
  },
  {
   "cell_type": "code",
   "execution_count": 489,
   "metadata": {},
   "outputs": [],
   "source": [
    "x_train=pd.get_dummies(x_train)"
   ]
  },
  {
   "cell_type": "code",
   "execution_count": 490,
   "metadata": {},
   "outputs": [],
   "source": [
    "x_val=pd.get_dummies(x_val)"
   ]
  },
  {
   "cell_type": "code",
   "execution_count": 491,
   "metadata": {},
   "outputs": [
    {
     "data": {
      "text/plain": [
       "(79853, 16)"
      ]
     },
     "execution_count": 491,
     "metadata": {},
     "output_type": "execute_result"
    }
   ],
   "source": [
    "x_train.shape"
   ]
  },
  {
   "cell_type": "code",
   "execution_count": 492,
   "metadata": {},
   "outputs": [
    {
     "data": {
      "text/plain": [
       "(79853,)"
      ]
     },
     "execution_count": 492,
     "metadata": {},
     "output_type": "execute_result"
    }
   ],
   "source": [
    "y_train.shape"
   ]
  },
  {
   "cell_type": "code",
   "execution_count": 493,
   "metadata": {},
   "outputs": [
    {
     "data": {
      "text/plain": [
       "(3927, 16)"
      ]
     },
     "execution_count": 493,
     "metadata": {},
     "output_type": "execute_result"
    }
   ],
   "source": [
    "x_val.shape"
   ]
  },
  {
   "cell_type": "code",
   "execution_count": 494,
   "metadata": {},
   "outputs": [
    {
     "data": {
      "text/plain": [
       "(3927,)"
      ]
     },
     "execution_count": 494,
     "metadata": {},
     "output_type": "execute_result"
    }
   ],
   "source": [
    "y_val.shape"
   ]
  },
  {
   "cell_type": "code",
   "execution_count": 495,
   "metadata": {},
   "outputs": [
    {
     "data": {
      "text/plain": [
       "LogisticRegression()"
      ]
     },
     "execution_count": 495,
     "metadata": {},
     "output_type": "execute_result"
    }
   ],
   "source": [
    "logreg.fit(x_train,y_train)"
   ]
  },
  {
   "cell_type": "code",
   "execution_count": 496,
   "metadata": {},
   "outputs": [],
   "source": [
    "pred=logreg.predict(x_val)"
   ]
  },
  {
   "cell_type": "code",
   "execution_count": 497,
   "metadata": {},
   "outputs": [
    {
     "data": {
      "text/plain": [
       "array([1, 1, 1, ..., 1, 1, 1], dtype=int64)"
      ]
     },
     "execution_count": 497,
     "metadata": {},
     "output_type": "execute_result"
    }
   ],
   "source": [
    "pred"
   ]
  },
  {
   "cell_type": "code",
   "execution_count": 498,
   "metadata": {},
   "outputs": [
    {
     "data": {
      "text/plain": [
       "(3927,)"
      ]
     },
     "execution_count": 498,
     "metadata": {},
     "output_type": "execute_result"
    }
   ],
   "source": [
    "pred.shape"
   ]
  },
  {
   "cell_type": "code",
   "execution_count": 499,
   "metadata": {},
   "outputs": [
    {
     "data": {
      "text/plain": [
       "0.937409990858202"
      ]
     },
     "execution_count": 499,
     "metadata": {},
     "output_type": "execute_result"
    }
   ],
   "source": [
    "logreg.score(x_train,y_train)"
   ]
  },
  {
   "cell_type": "code",
   "execution_count": 500,
   "metadata": {},
   "outputs": [],
   "source": [
    "rmse_test=np.sqrt(np.mean(np.power((np.array(y_val)-np.array(pred)),2)))\n",
    "rmse_train=np.sqrt(np.mean(np.power((np.array(y_train)-np.array(logreg.predict(x_train))),2)))"
   ]
  },
  {
   "cell_type": "code",
   "execution_count": 501,
   "metadata": {},
   "outputs": [
    {
     "name": "stdout",
     "output_type": "stream",
     "text": [
      "0.2501799535170595\n"
     ]
    }
   ],
   "source": [
    "print(rmse_train)"
   ]
  },
  {
   "cell_type": "code",
   "execution_count": 502,
   "metadata": {},
   "outputs": [
    {
     "name": "stdout",
     "output_type": "stream",
     "text": [
      "0.15054438182444743\n"
     ]
    }
   ],
   "source": [
    "print(rmse_test)"
   ]
  },
  {
   "cell_type": "code",
   "execution_count": 503,
   "metadata": {},
   "outputs": [],
   "source": [
    "y=train['target']\n",
    "x=train.drop(['target'],axis=1)"
   ]
  },
  {
   "cell_type": "code",
   "execution_count": 504,
   "metadata": {},
   "outputs": [],
   "source": [
    "from sklearn.model_selection import train_test_split"
   ]
  },
  {
   "cell_type": "code",
   "execution_count": 505,
   "metadata": {},
   "outputs": [],
   "source": [
    "x_train,x_val,y_train,y_val=train_test_split(x,y,random_state=101,stratify=y,test_size=0.25)"
   ]
  },
  {
   "cell_type": "code",
   "execution_count": 506,
   "metadata": {},
   "outputs": [
    {
     "data": {
      "text/plain": [
       "1    0.937418\n",
       "0    0.062582\n",
       "Name: target, dtype: float64"
      ]
     },
     "execution_count": 506,
     "metadata": {},
     "output_type": "execute_result"
    }
   ],
   "source": [
    "y_train.value_counts(normalize=True)"
   ]
  },
  {
   "cell_type": "code",
   "execution_count": 507,
   "metadata": {},
   "outputs": [
    {
     "data": {
      "text/plain": [
       "1    0.937387\n",
       "0    0.062613\n",
       "Name: target, dtype: float64"
      ]
     },
     "execution_count": 507,
     "metadata": {},
     "output_type": "execute_result"
    }
   ],
   "source": [
    "y_val.value_counts(normalize=True)"
   ]
  },
  {
   "cell_type": "code",
   "execution_count": 508,
   "metadata": {},
   "outputs": [
    {
     "data": {
      "text/plain": [
       "((19964, 16), (19964,))"
      ]
     },
     "execution_count": 508,
     "metadata": {},
     "output_type": "execute_result"
    }
   ],
   "source": [
    "x_val.shape,y_val.shape"
   ]
  },
  {
   "cell_type": "code",
   "execution_count": 509,
   "metadata": {},
   "outputs": [],
   "source": [
    "from sklearn.tree import DecisionTreeRegressor"
   ]
  },
  {
   "cell_type": "code",
   "execution_count": 510,
   "metadata": {},
   "outputs": [],
   "source": [
    "dectree_reg=DecisionTreeRegressor(max_depth=7,min_samples_leaf=4)"
   ]
  },
  {
   "cell_type": "code",
   "execution_count": 511,
   "metadata": {},
   "outputs": [
    {
     "data": {
      "text/plain": [
       "DecisionTreeRegressor(max_depth=7, min_samples_leaf=4)"
      ]
     },
     "execution_count": 511,
     "metadata": {},
     "output_type": "execute_result"
    }
   ],
   "source": [
    "dectree_reg.fit(x_train,y_train)"
   ]
  },
  {
   "cell_type": "code",
   "execution_count": 512,
   "metadata": {},
   "outputs": [],
   "source": [
    "predict=dectree_reg.predict(x_val)"
   ]
  },
  {
   "cell_type": "code",
   "execution_count": 513,
   "metadata": {},
   "outputs": [
    {
     "data": {
      "text/plain": [
       "array([0.83154122, 0.97311089, 0.98896017, ..., 0.98896017, 0.92307692,\n",
       "       0.96583742])"
      ]
     },
     "execution_count": 513,
     "metadata": {},
     "output_type": "execute_result"
    }
   ],
   "source": [
    "predict"
   ]
  },
  {
   "cell_type": "code",
   "execution_count": 514,
   "metadata": {},
   "outputs": [],
   "source": [
    "test_prediction=dectree_reg.predict(test)"
   ]
  },
  {
   "cell_type": "code",
   "execution_count": 515,
   "metadata": {},
   "outputs": [],
   "source": [
    "file1=pd.DataFrame()"
   ]
  },
  {
   "cell_type": "code",
   "execution_count": 516,
   "metadata": {},
   "outputs": [],
   "source": [
    "file1['target']=test_prediction"
   ]
  },
  {
   "cell_type": "code",
   "execution_count": 519,
   "metadata": {},
   "outputs": [],
   "source": [
    "file1.to_csv('final_submission_.csv', header=True, index=False)"
   ]
  },
  {
   "cell_type": "code",
   "execution_count": 520,
   "metadata": {},
   "outputs": [
    {
     "data": {
      "text/plain": [
       "0.20214443491498602"
      ]
     },
     "execution_count": 520,
     "metadata": {},
     "output_type": "execute_result"
    }
   ],
   "source": [
    "dectree_reg.score(x_train,y_train)"
   ]
  },
  {
   "cell_type": "code",
   "execution_count": null,
   "metadata": {},
   "outputs": [],
   "source": []
  },
  {
   "cell_type": "code",
   "execution_count": null,
   "metadata": {},
   "outputs": [],
   "source": []
  },
  {
   "cell_type": "code",
   "execution_count": null,
   "metadata": {},
   "outputs": [],
   "source": []
  },
  {
   "cell_type": "code",
   "execution_count": null,
   "metadata": {},
   "outputs": [],
   "source": []
  },
  {
   "cell_type": "code",
   "execution_count": null,
   "metadata": {},
   "outputs": [],
   "source": []
  },
  {
   "cell_type": "code",
   "execution_count": null,
   "metadata": {},
   "outputs": [],
   "source": []
  }
 ],
 "metadata": {
  "kernelspec": {
   "display_name": "Python 3",
   "language": "python",
   "name": "python3"
  },
  "language_info": {
   "codemirror_mode": {
    "name": "ipython",
    "version": 3
   },
   "file_extension": ".py",
   "mimetype": "text/x-python",
   "name": "python",
   "nbconvert_exporter": "python",
   "pygments_lexer": "ipython3",
   "version": "3.8.3"
  }
 },
 "nbformat": 4,
 "nbformat_minor": 4
}
